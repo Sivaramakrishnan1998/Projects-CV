{
 "cells": [
  {
   "cell_type": "code",
   "execution_count": 1,
   "metadata": {},
   "outputs": [],
   "source": [
    "import numpy as np\n",
    "import cv2\n",
    "\n",
    "img = cv2.imread('./images/blobs.jpg',0)\n",
    "img2 = img\n",
    "\n",
    "detector = cv2.SimpleBlobDetector_create()\n",
    "\n",
    "keypoints = detector.detect(img)\n",
    "\n",
    "blank = np.zeros((1,1))\n",
    "\n",
    "blobs = cv2.drawKeypoints(img, keypoints, blank, (0,0,255),cv2.DRAW_MATCHES_FLAGS_DEFAULT)\n",
    "\n",
    "number_of_blobs = len(keypoints)\n",
    "\n",
    "text = \"total number of blobs\"+str(number_of_blobs)\n",
    "\n",
    "cv2.imshow(\"blobs using default parameters\", blobs)\n",
    "cv2.waitKey(0)\n",
    "\n",
    "\n",
    "# setting our filtering parameters\n",
    "\n",
    "params = cv2.SimpleBlobDetector_Params()\n",
    "params.filterByArea = True\n",
    "params.minArea = 100\n",
    "\n",
    "params.filterByCircularity = True\n",
    "params.minCircularity = .9\n",
    "\n",
    "params.filterByConvexity = False\n",
    "params.minConvexity = .2\n",
    "\n",
    "params.filterByInertia = True\n",
    "params.minInertiaRatio = .01\n",
    "\n",
    "detector = cv2.SimpleBlobDetector_create(params)\n",
    "\n",
    "keypoints = detector.detect(img)\n",
    "\n",
    "blank = np.zeros((1,1))\n",
    "\n",
    "blobs = cv2.drawKeypoints(img, keypoints, blank, (0, 255, 255), cv2.DRAW_MATCHES_FLAGS_DEFAULT)\n",
    "\n",
    "cv2.imshow(\"blobs\", blobs)\n",
    "cv2.waitKey(0)\n",
    "cv2.destroyAllWindows()"
   ]
  }
 ],
 "metadata": {
  "kernelspec": {
   "display_name": "Python 3",
   "language": "python",
   "name": "python3"
  },
  "language_info": {
   "codemirror_mode": {
    "name": "ipython",
    "version": 3
   },
   "file_extension": ".py",
   "mimetype": "text/x-python",
   "name": "python",
   "nbconvert_exporter": "python",
   "pygments_lexer": "ipython3",
   "version": "3.6.8"
  }
 },
 "nbformat": 4,
 "nbformat_minor": 2
}
